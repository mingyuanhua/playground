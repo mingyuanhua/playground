{
 "cells": [
  {
   "cell_type": "code",
   "execution_count": 1,
   "id": "8bc655e7-fcde-4a7b-be71-ba94be282d4c",
   "metadata": {},
   "outputs": [
    {
     "name": "stdout",
     "output_type": "stream",
     "text": [
      "1\n"
     ]
    }
   ],
   "source": [
    "print(ord('b') - ord('a'))"
   ]
  },
  {
   "cell_type": "code",
   "execution_count": 2,
   "id": "96dda860-a726-4861-8986-ae479f8397a8",
   "metadata": {},
   "outputs": [
    {
     "name": "stdout",
     "output_type": "stream",
     "text": [
      "nocaeb\n",
      "be\n"
     ]
    }
   ],
   "source": [
    "string = 'beacon'\n",
    "print(string[::-1])\n",
    "print(string[0:2])"
   ]
  },
  {
   "cell_type": "code",
   "execution_count": 3,
   "id": "3b351cde-9411-4d1d-89b1-e9279c2c3654",
   "metadata": {},
   "outputs": [
    {
     "data": {
      "text/plain": [
       "Counter({1: 1, 2: 2, 4: 1, 5: 2})"
      ]
     },
     "execution_count": 3,
     "metadata": {},
     "output_type": "execute_result"
    }
   ],
   "source": [
    "import collections\n",
    "li = [1,2,2,4,5,5]\n",
    "cnt = collections.Counter(li)\n",
    "cnt"
   ]
  },
  {
   "cell_type": "code",
   "execution_count": 4,
   "id": "716a4cb6-9cf7-4328-9a57-1e9a3aa2e687",
   "metadata": {
    "tags": []
   },
   "outputs": [
    {
     "name": "stdout",
     "output_type": "stream",
     "text": [
      "(1, 4)\n",
      "(2, 3)\n",
      "1\n",
      "2\n",
      "4\n",
      "3\n"
     ]
    }
   ],
   "source": [
    "cnt = {1:4, 2:3}\n",
    "for item in cnt.items():\n",
    "    print(item)\n",
    "for item in cnt.keys():\n",
    "    print(item)\n",
    "for item in cnt.values():\n",
    "    print(item)"
   ]
  },
  {
   "cell_type": "code",
   "execution_count": 8,
   "id": "1ca4809d-097f-4c46-9a08-9e736d7861d7",
   "metadata": {},
   "outputs": [
    {
     "data": {
      "text/plain": [
       "[0, 0, 0, 0]"
      ]
     },
     "execution_count": 8,
     "metadata": {},
     "output_type": "execute_result"
    }
   ],
   "source": [
    "length = 4\n",
    "li = [0]*length\n",
    "# li = [0 for i in range(length)]\n",
    "# li = [[0] * 3 for i in range(length)]\n",
    "li"
   ]
  },
  {
   "cell_type": "code",
   "execution_count": 10,
   "id": "d6cc6143-7981-4e80-b9bb-b78a3625d45d",
   "metadata": {},
   "outputs": [
    {
     "name": "stdout",
     "output_type": "stream",
     "text": [
      "Counter({'blue': 3, 'red': 2, 'green': 1})\n",
      "{'red': 2, 'blue': 3, 'green': 1}\n"
     ]
    }
   ],
   "source": [
    "from collections import Counter\n",
    "colors = ['red', 'blue', 'red', 'green', 'blue', 'blue']\n",
    "c = Counter(colors)\n",
    "print(c)\n",
    "print(dict(c))"
   ]
  },
  {
   "cell_type": "code",
   "execution_count": 11,
   "id": "03308f31-8725-47f6-8de7-1487a20d473d",
   "metadata": {},
   "outputs": [
    {
     "data": {
      "text/plain": [
       "Counter({'a': 4, 'b': 3})"
      ]
     },
     "execution_count": 11,
     "metadata": {},
     "output_type": "execute_result"
    }
   ],
   "source": [
    "c = Counter(a=3, b=1)\n",
    "d = Counter(a=1, b=2)\n",
    "c + d"
   ]
  },
  {
   "cell_type": "code",
   "execution_count": 14,
   "id": "e099b8d7-1a6b-4706-a1bb-0e31bde88125",
   "metadata": {},
   "outputs": [
    {
     "name": "stdout",
     "output_type": "stream",
     "text": [
      "4\n",
      "0\n",
      "[1, 2, 2, 4, 5, 8]\n",
      "1\n",
      "3\n"
     ]
    }
   ],
   "source": [
    "import bisect\n",
    "a=[1,2,2,5,8]\n",
    "position = bisect.bisect(a, 7)\n",
    "print(position)\n",
    "position = bisect.bisect(a, 0)\n",
    "print(position)\n",
    "bisect.insort(a,4)\n",
    "print(a)\n",
    "position = bisect.bisect_left(a, 2)\n",
    "print(position)\n",
    "position = bisect.bisect_right(a, 2)\n",
    "print(position)"
   ]
  },
  {
   "cell_type": "code",
   "execution_count": 16,
   "id": "e14d3f6e-ec3e-4337-926d-708b2d31322a",
   "metadata": {},
   "outputs": [
    {
     "name": "stdout",
     "output_type": "stream",
     "text": [
      "[1, 2, 3, 4, 5, 6]\n"
     ]
    }
   ],
   "source": [
    "# deduplicate\n",
    "l1=[1,4,4,2,3,4,5,6,1]\n",
    "l2=list(set(l1))\n",
    "print(l2)"
   ]
  },
  {
   "cell_type": "code",
   "execution_count": 17,
   "id": "7ad94943-ab99-4fd0-880f-7ab96edf91ce",
   "metadata": {},
   "outputs": [
    {
     "name": "stdout",
     "output_type": "stream",
     "text": [
      "a b c\n"
     ]
    }
   ],
   "source": [
    "li=['a','b','c']\n",
    "print(' '.join(str(i) for i in li))"
   ]
  },
  {
   "cell_type": "code",
   "execution_count": 18,
   "id": "19c7e7dc-0efc-4df1-9d52-33bd692d4d3f",
   "metadata": {},
   "outputs": [
    {
     "name": "stdout",
     "output_type": "stream",
     "text": [
      "[1, 4, 9, 16, 25] [1, 4, 9, 16, 25]\n"
     ]
    }
   ],
   "source": [
    "def square(x):\n",
    "    return x**2\n",
    "a=list(map(square, [1,2,3,4,5]))\n",
    "b=list(map(lambda x: x**2, [1,2,3,4,5]))\n",
    "print(a,b)"
   ]
  },
  {
   "cell_type": "code",
   "execution_count": 20,
   "id": "cea85f2a-1ecb-4a27-9d3f-9ae707807f66",
   "metadata": {},
   "outputs": [
    {
     "name": "stdout",
     "output_type": "stream",
     "text": [
      "deque([0, 2, 4])\n"
     ]
    }
   ],
   "source": [
    "from collections import deque\n",
    "# que = collections.deque()\n",
    "a=deque([1,2,3])\n",
    "a.pop()\n",
    "a.append(4)\n",
    "a.popleft()\n",
    "a.appendleft(0)\n",
    "print(a)"
   ]
  },
  {
   "cell_type": "code",
   "execution_count": 22,
   "id": "3eed3e55-126b-48c1-84cf-30a7bd92034d",
   "metadata": {},
   "outputs": [
    {
     "name": "stdout",
     "output_type": "stream",
     "text": [
      "deque([0, 4])\n"
     ]
    }
   ],
   "source": [
    "que = collections.deque()\n",
    "que.append(4)\n",
    "que.appendleft(0)\n",
    "print(que)"
   ]
  },
  {
   "cell_type": "code",
   "execution_count": 26,
   "id": "5b433f7f-8723-4e26-ac09-5559d9bf3aec",
   "metadata": {},
   "outputs": [
    {
     "name": "stdout",
     "output_type": "stream",
     "text": [
      "1\n",
      "2\n"
     ]
    }
   ],
   "source": [
    "from queue import PriorityQueue\n",
    "Q = PriorityQueue()\n",
    "Q.put(3)\n",
    "Q.put(4)\n",
    "Q.put(2)\n",
    "Q.put(1)\n",
    "print(Q.get())\n",
    "print(Q.get())"
   ]
  },
  {
   "cell_type": "code",
   "execution_count": 28,
   "id": "61b11096-df94-47b1-8442-81accbce39d3",
   "metadata": {},
   "outputs": [
    {
     "name": "stdout",
     "output_type": "stream",
     "text": [
      "[[1, 3], [2, 6], [8, 10], [15, 18]]\n"
     ]
    }
   ],
   "source": [
    "# sort first index\n",
    "li=[[1,3],[8,10],[2,6],[15,18]]\n",
    "li.sort(key=lambda x: x[0])\n",
    "print(li)"
   ]
  },
  {
   "cell_type": "code",
   "execution_count": 29,
   "id": "9312050d-44d7-49bf-b768-6b1f289fa5b4",
   "metadata": {},
   "outputs": [
    {
     "data": {
      "text/plain": [
       "'Hello game'"
      ]
     },
     "execution_count": 29,
     "metadata": {},
     "output_type": "execute_result"
    }
   ],
   "source": [
    "name='game'\n",
    "f'Hello {name}'"
   ]
  },
  {
   "cell_type": "code",
   "execution_count": 30,
   "id": "c5125ccf-9eba-4583-9815-a9d82a8bd850",
   "metadata": {},
   "outputs": [
    {
     "name": "stdout",
     "output_type": "stream",
     "text": [
      "Chelsea plays in Premiere League. Country: UK\n",
      "Barcelona plays in La Liga. Country: Spain\n",
      "Bayern Munich plays in Bundesliga. Country: Germany\n"
     ]
    }
   ],
   "source": [
    "teams=['Chelsea','Barcelona','Bayern Munich']\n",
    "leagues=['Premiere League','La Liga','Bundesliga']\n",
    "countries=['UK','Spain','Germany']\n",
    "for team, league, country in zip(teams, leagues, countries):\n",
    "    print(f'{team} plays in {league}. Country: {country}')"
   ]
  },
  {
   "cell_type": "code",
   "execution_count": 32,
   "id": "ddd1b4b9-5583-4eb7-bcd0-a6fe43c00210",
   "metadata": {},
   "outputs": [
    {
     "name": "stdout",
     "output_type": "stream",
     "text": [
      "c 0\n",
      "b 1\n",
      "a 2\n"
     ]
    }
   ],
   "source": [
    "from collections import OrderedDict\n",
    "mydict=OrderedDict({'c':0,'b':1,'a':2})\n",
    "for key, value in mydict.items():\n",
    "    print(key, value)"
   ]
  },
  {
   "cell_type": "code",
   "execution_count": 33,
   "id": "5f23b13a-7c71-4e9c-a113-78e9bcdcfc85",
   "metadata": {},
   "outputs": [
    {
     "data": {
      "text/plain": [
       "2"
      ]
     },
     "execution_count": 33,
     "metadata": {},
     "output_type": "execute_result"
    }
   ],
   "source": [
    "nums=[1,2,2,2,3,4,4]\n",
    "from collections import Counter\n",
    "cnt=Counter(nums)\n",
    "max(cnt.keys(), key=cnt.get)"
   ]
  },
  {
   "cell_type": "code",
   "execution_count": 40,
   "id": "e041b3b1-3e8a-4903-ae1f-c14644511489",
   "metadata": {},
   "outputs": [],
   "source": [
    "from functools import lru_cache\n",
    "@lru_cache(maxsize=None)\n",
    "def fib(n):\n",
    "    if n < 2:\n",
    "        return n\n",
    "    return fib(n-1) + fib(n-2)"
   ]
  },
  {
   "cell_type": "code",
   "execution_count": 41,
   "id": "3c9ea402-0d7a-485d-aadb-776b7d55ba1a",
   "metadata": {},
   "outputs": [
    {
     "data": {
      "text/plain": [
       "354224848179261915075"
      ]
     },
     "execution_count": 41,
     "metadata": {},
     "output_type": "execute_result"
    }
   ],
   "source": [
    "fib(100)"
   ]
  },
  {
   "cell_type": "code",
   "execution_count": 43,
   "id": "b4980493-fbed-4fc1-aa30-d2793864f49e",
   "metadata": {},
   "outputs": [
    {
     "name": "stdout",
     "output_type": "stream",
     "text": [
      "[('b', 0), ('a', 3), ('d', 34), ('c', 89)]\n",
      "[('a', 3), ('b', 0), ('c', 89), ('d', 34)]\n"
     ]
    }
   ],
   "source": [
    "a={'a':3,'c':89,'b':0,'d':34}\n",
    "a1=sorted(a.items(), key=lambda x: x[1])\n",
    "a2=sorted(a.items(), key=lambda x: x[0])\n",
    "print(a1)\n",
    "print(a2)"
   ]
  },
  {
   "cell_type": "code",
   "execution_count": 46,
   "id": "4c47e93b-71e0-491c-b241-a4a9b83ed66a",
   "metadata": {},
   "outputs": [
    {
     "name": "stdout",
     "output_type": "stream",
     "text": [
      "['g', 'e', 'e', 'k', 's', 'f', 'o', 'r', 'g', 'e', 'e', 'k', 's']\n"
     ]
    }
   ],
   "source": [
    "from itertools import chain\n",
    "from_iterable = chain.from_iterable(['geeks','for','geeks'])\n",
    "print(list(from_iterable))"
   ]
  },
  {
   "cell_type": "code",
   "execution_count": 47,
   "id": "30994b80-030c-44e4-9379-0539b7f93198",
   "metadata": {},
   "outputs": [
    {
     "data": {
      "text/plain": [
       "0"
      ]
     },
     "execution_count": 47,
     "metadata": {},
     "output_type": "execute_result"
    }
   ],
   "source": [
    "flag=1\n",
    "flag^=1\n",
    "flag"
   ]
  },
  {
   "cell_type": "code",
   "execution_count": 48,
   "id": "650069e6-6fb5-4ca6-bf1a-58eb52c2ec95",
   "metadata": {},
   "outputs": [
    {
     "name": "stdout",
     "output_type": "stream",
     "text": [
      "3\n"
     ]
    }
   ],
   "source": [
    "from math import gcd\n",
    "print(gcd(3,6))"
   ]
  },
  {
   "cell_type": "code",
   "execution_count": 51,
   "id": "72d737b1-6f09-4211-92db-8357860f8d1d",
   "metadata": {},
   "outputs": [
    {
     "name": "stdout",
     "output_type": "stream",
     "text": [
      "(1, 3, 5)\n",
      "(2, 4, 6)\n"
     ]
    }
   ],
   "source": [
    "grid=[[1,2],[3,4],[5,6]]\n",
    "for col in zip(*grid):\n",
    "    print(col)"
   ]
  },
  {
   "cell_type": "code",
   "execution_count": 59,
   "id": "21772007-ee87-49e9-a258-f6a8bc62a6a8",
   "metadata": {},
   "outputs": [
    {
     "name": "stdout",
     "output_type": "stream",
     "text": [
      "[1, 2] [3, 4]\n"
     ]
    }
   ],
   "source": [
    "def foo(a, b):\n",
    "    print(a, b)\n",
    "\n",
    "grid = [[1, 2], [3, 4]]\n",
    "foo(*grid)  # 等效于 foo([1, 2], [3, 4])"
   ]
  },
  {
   "cell_type": "code",
   "execution_count": 64,
   "id": "89ebdc8c-659f-42e9-bb50-0e8fbba2e2e9",
   "metadata": {},
   "outputs": [
    {
     "name": "stdout",
     "output_type": "stream",
     "text": [
      "[1, 2, 3, 4, 5, 6]\n",
      "{1, 2, 3, 4, 5}\n",
      "[1, 2, 3, 4, 5, 6]\n",
      "[[1, 2], [3, 4]]\n"
     ]
    }
   ],
   "source": [
    "list1 = [1, 2, 3]\n",
    "list2 = [4, 5, 6]\n",
    "merged_list = [*list1, *list2]  # 合并两个列表\n",
    "print(merged_list)  # 输出: [1, 2, 3, 4, 5, 6]\n",
    "\n",
    "set1 = {1, 2, 3}\n",
    "set2 = {3, 4, 5}\n",
    "merged_set = {*set1, *set2}  # 合并两个集合\n",
    "print(merged_set)  # 输出: {1, 2, 3, 4, 5}\n",
    "\n",
    "print(list1 + list2)\n",
    "print([*grid])"
   ]
  },
  {
   "cell_type": "code",
   "execution_count": 69,
   "id": "d9751261-6f22-4dcb-8fa4-7f6a19bf2db0",
   "metadata": {},
   "outputs": [
    {
     "name": "stdout",
     "output_type": "stream",
     "text": [
      "SortedList([1, 2, 3, 4])\n",
      "SortedList([1, 2, 3, 4, 5])\n",
      "list elements are: 1 2 3 4 5 "
     ]
    }
   ],
   "source": [
    "from sortedcontainers import SortedList, SortedSet, SortedDict\n",
    "sorted_list = SortedList([1,2,3,4])\n",
    "print(sorted_list)\n",
    "\n",
    "sorted_list = SortedList()\n",
    "for i in range(5,0,-1):\n",
    "    sorted_list.add(i)\n",
    "print(sorted_list)\n",
    "print('list elements are: ', end = '')\n",
    "for i in sorted_list:\n",
    "    print(i, end=' ')"
   ]
  },
  {
   "cell_type": "code",
   "execution_count": 71,
   "id": "d369a364-744c-49af-a1f6-f01c25ee7d43",
   "metadata": {},
   "outputs": [
    {
     "name": "stdout",
     "output_type": "stream",
     "text": [
      "SortedList([5, 6, 7, 8, 9, 10])\n",
      "SortedList([5, 6, 7, 9, 10])\n"
     ]
    }
   ],
   "source": [
    "sorted_list.clear()\n",
    "elements=[10,9,8,7,6,5]\n",
    "sorted_list.update(elements)\n",
    "print(sorted_list)\n",
    "sorted_list.discard(8)\n",
    "print(sorted_list)"
   ]
  },
  {
   "cell_type": "code",
   "execution_count": null,
   "id": "1980658d-55a9-4abd-b2a1-8ac0d0dca58d",
   "metadata": {},
   "outputs": [],
   "source": [
    "for v in map"
   ]
  },
  {
   "cell_type": "code",
   "execution_count": null,
   "id": "39cfc7cf-4c6c-45f3-ace6-086c733e4ba5",
   "metadata": {},
   "outputs": [],
   "source": []
  },
  {
   "cell_type": "code",
   "execution_count": null,
   "id": "30de2c29-5fe7-47d9-b09e-002492f913a3",
   "metadata": {},
   "outputs": [],
   "source": []
  }
 ],
 "metadata": {
  "kernelspec": {
   "display_name": "Python 3 (ipykernel)",
   "language": "python",
   "name": "python3"
  },
  "language_info": {
   "codemirror_mode": {
    "name": "ipython",
    "version": 3
   },
   "file_extension": ".py",
   "mimetype": "text/x-python",
   "name": "python",
   "nbconvert_exporter": "python",
   "pygments_lexer": "ipython3",
   "version": "3.10.9"
  }
 },
 "nbformat": 4,
 "nbformat_minor": 5
}
