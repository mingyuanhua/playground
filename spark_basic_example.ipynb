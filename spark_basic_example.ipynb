{
  "nbformat": 4,
  "nbformat_minor": 0,
  "metadata": {
    "colab": {
      "name": "spark-basic-example.ipynb",
      "provenance": [],
      "include_colab_link": true
    },
    "kernelspec": {
      "name": "python3",
      "display_name": "Python 3"
    }
  },
  "cells": [
    {
      "cell_type": "markdown",
      "metadata": {
        "id": "view-in-github",
        "colab_type": "text"
      },
      "source": [
        "<a href=\"https://colab.research.google.com/github/mingyuanhua/playground/blob/master/spark_basic_example.ipynb\" target=\"_parent\"><img src=\"https://colab.research.google.com/assets/colab-badge.svg\" alt=\"Open In Colab\"/></a>"
      ]
    },
    {
      "cell_type": "code",
      "metadata": {
        "id": "PlR3u1M7BlF6"
      },
      "source": [
        "!apt-get install openjdk-8-jdk-headless -qq > /dev/null\n",
        "!wget -q https://downloads.apache.org/spark/spark-3.4.0/spark-3.4.0-bin-hadoop3.tgz  \n",
        "!tar xf /content/spark-3.4.0-bin-hadoop3.tgz\n",
        "!pip install -q findspark"
      ],
      "execution_count": 1,
      "outputs": []
    },
    {
      "cell_type": "code",
      "metadata": {
        "id": "YVYch-1qBw-1",
        "colab": {
          "base_uri": "https://localhost:8080/"
        },
        "outputId": "c89ab488-8c23-4925-a448-496a51c39d08"
      },
      "source": [
        "import os\n",
        "os.environ[\"JAVA_HOME\"] = \"/usr/lib/jvm/java-8-openjdk-amd64\"\n",
        "os.environ[\"SPARK_HOME\"] = \"/content/spark-3.4.0-bin-hadoop3\"\n",
        "!ls"
      ],
      "execution_count": 2,
      "outputs": [
        {
          "output_type": "stream",
          "name": "stdout",
          "text": [
            "sample_data  spark-3.4.0-bin-hadoop3  spark-3.4.0-bin-hadoop3.tgz\n"
          ]
        }
      ]
    },
    {
      "cell_type": "code",
      "metadata": {
        "id": "JdfopI99Bxar"
      },
      "source": [
        "import findspark\n",
        "findspark.init()\n",
        "from pyspark import SparkContext\n",
        "sc = SparkContext()"
      ],
      "execution_count": 3,
      "outputs": []
    },
    {
      "cell_type": "markdown",
      "metadata": {
        "id": "THbEgwFK_8T-"
      },
      "source": [
        "# Resilient Distributed Datasets (RDDs)\n",
        "Spark revolves around the concept of a resilient distributed dataset (RDD), which is a fault-tolerant collection of elements that can be operated on in parallel. There are two ways to create RDDs: parallelizing an existing collection in your driver program, or referencing a dataset in an external storage system, such as a shared filesystem, HDFS, HBase, or any data source offering a Hadoop InputFormat."
      ]
    },
    {
      "cell_type": "code",
      "metadata": {
        "id": "1fvkljqiAEiu",
        "colab": {
          "base_uri": "https://localhost:8080/"
        },
        "outputId": "498a8c5b-7f6d-494e-b99e-041c6e2435a5"
      },
      "source": [
        "data = [1, 2, 3, 4, 5]\n",
        "distData = sc.parallelize(data)\n",
        "\n",
        "s = distData.reduce(lambda a, b : a*b)\n",
        "\n",
        "print (s)\n",
        "\n",
        "#.textfile()\n"
      ],
      "execution_count": 4,
      "outputs": [
        {
          "output_type": "stream",
          "name": "stdout",
          "text": [
            "120\n"
          ]
        }
      ]
    },
    {
      "cell_type": "markdown",
      "metadata": {
        "id": "H1J2MxhvANrv"
      },
      "source": [
        "Once created, the distributed dataset (distData) can be operated on in parallel. For example, we can call distData.reduce(lambda a, b: a + b) to add up the elements of the list. We describe operations on distributed datasets later on.\n",
        "\n",
        "One important parameter for parallel collections is the number of partitions to cut the dataset into. Spark will run one task for each partition of the cluster. Typically you want 2-4 partitions for each CPU in your cluster. Normally, Spark tries to set the number of partitions automatically based on your cluster. However, you can also set it manually by passing it as a second parameter to parallelize (e.g. sc.parallelize(data, 10)). Note: some places in the code use the term slices (a synonym for partitions) to maintain backward compatibility."
      ]
    },
    {
      "cell_type": "markdown",
      "metadata": {
        "id": "qfl5xbQSAZDq"
      },
      "source": [
        "# RDD Operations\n",
        "\n",
        "RDDs support two types of operations: transformations, which create a new dataset from an existing one, and actions, which return a value to the driver program after running a computation on the dataset. For example, map is a transformation that passes each dataset element through a function and returns a new RDD representing the results. On the other hand, reduce is an action that aggregates all the elements of the RDD using some function and returns the final result to the driver program (although there is also a parallel reduceByKey that returns a distributed dataset).\n",
        "\n",
        "All transformations in Spark are lazy, in that they do not compute their results right away. Instead, they just remember the transformations applied to some base dataset (e.g. a file). The transformations are only computed when an action requires a result to be returned to the driver program. This design enables Spark to run more efficiently. For example, we can realize that a dataset created through map will be used in a reduce and return only the result of the reduce to the driver, rather than the larger mapped dataset.\n",
        "\n",
        "By default, each transformed RDD may be recomputed each time you run an action on it. However, you may also persist an RDD in memory using the persist (or cache) method, in which case Spark will keep the elements around on the cluster for much faster access the next time you query it. There is also support for persisting RDDs on disk, or replicated across multiple nodes."
      ]
    },
    {
      "cell_type": "markdown",
      "metadata": {
        "id": "ql_RnV89AtJZ"
      },
      "source": [
        "# Basics\n",
        "\n",
        "To illustrate RDD basics, consider the simple program below:"
      ]
    },
    {
      "cell_type": "code",
      "metadata": {
        "colab": {
          "base_uri": "https://localhost:8080/"
        },
        "id": "D4I6dF_xA0bR",
        "outputId": "6cccd136-7df1-4a05-f3f9-e38901ffe172"
      },
      "source": [
        "def transformFunc(line):\n",
        "  return len(line)\n",
        "\n",
        "def reduceFunc(a, b):\n",
        "  return a+b\n",
        "\n",
        "# Transform: map, filter, FlatMap\n",
        "# Action:    reduce\n",
        "\n",
        "#lines = sc.textFile(\"exa.txt\")\n",
        "\n",
        "\n",
        "\n",
        "file = [\"line1\", \"This is line2\"]\n",
        "lines = sc.parallelize(file)\n",
        "print (lines.collect())\n",
        "lineLengths = lines.map(lambda line : len(line))\n",
        "\n",
        "print (lineLengths.collect())\n",
        "totalLength = lineLengths.reduce(reduceFunc)\n",
        "print (totalLength)\n",
        "\n",
        "# transform     map filter flatmap\n",
        "# action        reduce, collect"
      ],
      "execution_count": 5,
      "outputs": [
        {
          "output_type": "stream",
          "name": "stdout",
          "text": [
            "['line1', 'This is line2']\n",
            "[5, 13]\n",
            "18\n"
          ]
        }
      ]
    },
    {
      "cell_type": "markdown",
      "metadata": {
        "id": "u_ukuqCKBJkl"
      },
      "source": [
        "The first line defines a base RDD from an external file. This dataset is not loaded in memory or otherwise acted on: lines is merely a pointer to the file. The second line defines lineLengths as the result of a map transformation. Again, lineLengths is not immediately computed, due to laziness. Finally, we run reduce, which is an action. At this point Spark breaks the computation into tasks to run on separate machines, and each machine runs both its part of the map and a local reduction, returning only its answer to the driver program.\n",
        "\n",
        "If we also wanted to use lineLengths again later, we could add:"
      ]
    },
    {
      "cell_type": "code",
      "metadata": {
        "id": "d7A8nQ8ABLY2",
        "colab": {
          "base_uri": "https://localhost:8080/"
        },
        "outputId": "bbee5fcf-06bd-4386-cceb-34b2f2cae513"
      },
      "source": [
        "lineLengths.persist()\n",
        "print (lineLengths.collect())"
      ],
      "execution_count": 7,
      "outputs": [
        {
          "output_type": "stream",
          "name": "stdout",
          "text": [
            "[5, 13]\n"
          ]
        }
      ]
    },
    {
      "cell_type": "markdown",
      "metadata": {
        "id": "USxCBjjlBNQE"
      },
      "source": [
        "before the reduce, which would cause lineLengths to be saved in memory after the first time it is computed."
      ]
    },
    {
      "cell_type": "markdown",
      "metadata": {
        "id": "W4r2WROOBb1G"
      },
      "source": [
        "# Passing Functions to Spark\n",
        "Spark’s API relies heavily on passing functions in the driver program to run on the cluster. There are three recommended ways to do this:\n",
        "\n",
        "* Lambda expressions, for simple functions that can be written as an expression. (Lambdas do not support multi-statement functions or statements that do not return a value.)\n",
        "* Local defs inside the function calling into Spark, for longer code.\n",
        "* Top-level functions in a module.\n",
        "\n",
        "For example, to pass a longer function than can be supported using a lambda, consider the code below:"
      ]
    },
    {
      "cell_type": "code",
      "metadata": {
        "id": "XUsNF-c_Bmk9"
      },
      "source": [
        "\"\"\"MyScript.py\"\"\"\n",
        "if __name__ == \"__main__\":\n",
        "    def myFunc(s):\n",
        "        words = s.split(\" \")\n",
        "        return len(words)\n",
        "\n",
        "    sc = SparkContext(...)\n",
        "    sc.textFile(\"file.txt\").map(myFunc)"
      ],
      "execution_count": null,
      "outputs": []
    },
    {
      "cell_type": "markdown",
      "metadata": {
        "id": "tLOMAv2sCQdp"
      },
      "source": [
        "# Working with Key-Value Pairs\n",
        "\n",
        "While most Spark operations work on RDDs containing any type of objects, a few special operations are only available on RDDs of key-value pairs. The most common ones are distributed “shuffle” operations, such as grouping or aggregating the elements by a key.\n",
        "\n",
        "In Python, these operations work on RDDs containing built-in Python tuples such as (1, 2). Simply create such tuples and then call your desired operation.\n",
        "\n",
        "For example, the following code uses the reduceByKey operation on key-value pairs to count how many times each line of text occurs in a file:"
      ]
    },
    {
      "cell_type": "code",
      "metadata": {
        "colab": {
          "base_uri": "https://localhost:8080/"
        },
        "id": "LRFzfpvzCUNM",
        "outputId": "39b359e2-351d-4b41-b752-7a53a616bd04"
      },
      "source": [
        "words = [\"hello this is line one\", \"hello this is line two\"]\n",
        "words_rdd = sc.parallelize(words)\n",
        "print (words_rdd.collect())\n",
        "words_rdd = words_rdd.flatMap(lambda line: line.split(\" \"))\n",
        "print (words_rdd.collect())\n",
        "pairs = words_rdd.map(lambda s: (s, 1))\n",
        "print (pairs.collect())\n",
        "counts = pairs.reduceByKey(lambda a, b: a + b)\n",
        "print (counts.collect())"
      ],
      "execution_count": 8,
      "outputs": [
        {
          "output_type": "stream",
          "name": "stdout",
          "text": [
            "['hello this is line one', 'hello this is line two']\n",
            "['hello', 'this', 'is', 'line', 'one', 'hello', 'this', 'is', 'line', 'two']\n",
            "[('hello', 1), ('this', 1), ('is', 1), ('line', 1), ('one', 1), ('hello', 1), ('this', 1), ('is', 1), ('line', 1), ('two', 1)]\n",
            "[('this', 2), ('is', 2), ('line', 2), ('two', 1), ('hello', 2), ('one', 1)]\n"
          ]
        }
      ]
    },
    {
      "cell_type": "markdown",
      "metadata": {
        "id": "N1-dPaf6IPCn"
      },
      "source": [
        "#RDD API Examples"
      ]
    },
    {
      "cell_type": "markdown",
      "metadata": {
        "id": "i86pV9EcEDd3"
      },
      "source": [
        "##Word Count\n",
        "In this example, we use a few transformations to build a dataset of (String, Int) pairs called counts and then save it to a file."
      ]
    },
    {
      "cell_type": "code",
      "metadata": {
        "colab": {
          "base_uri": "https://localhost:8080/",
          "height": 77
        },
        "id": "nt5VAz2KEPZ9",
        "outputId": "98c5ce26-cbbb-4178-cd97-6a514ad169da"
      },
      "source": [
        "# text_file = sc.textFile(\"hdfs://...\")\n",
        "from google.colab import files\n",
        "files.upload()\n",
        "\n",
        "text_file = sc.textFile(\"example.txt\")"
      ],
      "execution_count": 9,
      "outputs": [
        {
          "output_type": "display_data",
          "data": {
            "text/plain": [
              "<IPython.core.display.HTML object>"
            ],
            "text/html": [
              "\n",
              "     <input type=\"file\" id=\"files-d2483700-1c09-4330-aab2-9ea1fbb4beaf\" name=\"files[]\" multiple disabled\n",
              "        style=\"border:none\" />\n",
              "     <output id=\"result-d2483700-1c09-4330-aab2-9ea1fbb4beaf\">\n",
              "      Upload widget is only available when the cell has been executed in the\n",
              "      current browser session. Please rerun this cell to enable.\n",
              "      </output>\n",
              "      <script>// Copyright 2017 Google LLC\n",
              "//\n",
              "// Licensed under the Apache License, Version 2.0 (the \"License\");\n",
              "// you may not use this file except in compliance with the License.\n",
              "// You may obtain a copy of the License at\n",
              "//\n",
              "//      http://www.apache.org/licenses/LICENSE-2.0\n",
              "//\n",
              "// Unless required by applicable law or agreed to in writing, software\n",
              "// distributed under the License is distributed on an \"AS IS\" BASIS,\n",
              "// WITHOUT WARRANTIES OR CONDITIONS OF ANY KIND, either express or implied.\n",
              "// See the License for the specific language governing permissions and\n",
              "// limitations under the License.\n",
              "\n",
              "/**\n",
              " * @fileoverview Helpers for google.colab Python module.\n",
              " */\n",
              "(function(scope) {\n",
              "function span(text, styleAttributes = {}) {\n",
              "  const element = document.createElement('span');\n",
              "  element.textContent = text;\n",
              "  for (const key of Object.keys(styleAttributes)) {\n",
              "    element.style[key] = styleAttributes[key];\n",
              "  }\n",
              "  return element;\n",
              "}\n",
              "\n",
              "// Max number of bytes which will be uploaded at a time.\n",
              "const MAX_PAYLOAD_SIZE = 100 * 1024;\n",
              "\n",
              "function _uploadFiles(inputId, outputId) {\n",
              "  const steps = uploadFilesStep(inputId, outputId);\n",
              "  const outputElement = document.getElementById(outputId);\n",
              "  // Cache steps on the outputElement to make it available for the next call\n",
              "  // to uploadFilesContinue from Python.\n",
              "  outputElement.steps = steps;\n",
              "\n",
              "  return _uploadFilesContinue(outputId);\n",
              "}\n",
              "\n",
              "// This is roughly an async generator (not supported in the browser yet),\n",
              "// where there are multiple asynchronous steps and the Python side is going\n",
              "// to poll for completion of each step.\n",
              "// This uses a Promise to block the python side on completion of each step,\n",
              "// then passes the result of the previous step as the input to the next step.\n",
              "function _uploadFilesContinue(outputId) {\n",
              "  const outputElement = document.getElementById(outputId);\n",
              "  const steps = outputElement.steps;\n",
              "\n",
              "  const next = steps.next(outputElement.lastPromiseValue);\n",
              "  return Promise.resolve(next.value.promise).then((value) => {\n",
              "    // Cache the last promise value to make it available to the next\n",
              "    // step of the generator.\n",
              "    outputElement.lastPromiseValue = value;\n",
              "    return next.value.response;\n",
              "  });\n",
              "}\n",
              "\n",
              "/**\n",
              " * Generator function which is called between each async step of the upload\n",
              " * process.\n",
              " * @param {string} inputId Element ID of the input file picker element.\n",
              " * @param {string} outputId Element ID of the output display.\n",
              " * @return {!Iterable<!Object>} Iterable of next steps.\n",
              " */\n",
              "function* uploadFilesStep(inputId, outputId) {\n",
              "  const inputElement = document.getElementById(inputId);\n",
              "  inputElement.disabled = false;\n",
              "\n",
              "  const outputElement = document.getElementById(outputId);\n",
              "  outputElement.innerHTML = '';\n",
              "\n",
              "  const pickedPromise = new Promise((resolve) => {\n",
              "    inputElement.addEventListener('change', (e) => {\n",
              "      resolve(e.target.files);\n",
              "    });\n",
              "  });\n",
              "\n",
              "  const cancel = document.createElement('button');\n",
              "  inputElement.parentElement.appendChild(cancel);\n",
              "  cancel.textContent = 'Cancel upload';\n",
              "  const cancelPromise = new Promise((resolve) => {\n",
              "    cancel.onclick = () => {\n",
              "      resolve(null);\n",
              "    };\n",
              "  });\n",
              "\n",
              "  // Wait for the user to pick the files.\n",
              "  const files = yield {\n",
              "    promise: Promise.race([pickedPromise, cancelPromise]),\n",
              "    response: {\n",
              "      action: 'starting',\n",
              "    }\n",
              "  };\n",
              "\n",
              "  cancel.remove();\n",
              "\n",
              "  // Disable the input element since further picks are not allowed.\n",
              "  inputElement.disabled = true;\n",
              "\n",
              "  if (!files) {\n",
              "    return {\n",
              "      response: {\n",
              "        action: 'complete',\n",
              "      }\n",
              "    };\n",
              "  }\n",
              "\n",
              "  for (const file of files) {\n",
              "    const li = document.createElement('li');\n",
              "    li.append(span(file.name, {fontWeight: 'bold'}));\n",
              "    li.append(span(\n",
              "        `(${file.type || 'n/a'}) - ${file.size} bytes, ` +\n",
              "        `last modified: ${\n",
              "            file.lastModifiedDate ? file.lastModifiedDate.toLocaleDateString() :\n",
              "                                    'n/a'} - `));\n",
              "    const percent = span('0% done');\n",
              "    li.appendChild(percent);\n",
              "\n",
              "    outputElement.appendChild(li);\n",
              "\n",
              "    const fileDataPromise = new Promise((resolve) => {\n",
              "      const reader = new FileReader();\n",
              "      reader.onload = (e) => {\n",
              "        resolve(e.target.result);\n",
              "      };\n",
              "      reader.readAsArrayBuffer(file);\n",
              "    });\n",
              "    // Wait for the data to be ready.\n",
              "    let fileData = yield {\n",
              "      promise: fileDataPromise,\n",
              "      response: {\n",
              "        action: 'continue',\n",
              "      }\n",
              "    };\n",
              "\n",
              "    // Use a chunked sending to avoid message size limits. See b/62115660.\n",
              "    let position = 0;\n",
              "    do {\n",
              "      const length = Math.min(fileData.byteLength - position, MAX_PAYLOAD_SIZE);\n",
              "      const chunk = new Uint8Array(fileData, position, length);\n",
              "      position += length;\n",
              "\n",
              "      const base64 = btoa(String.fromCharCode.apply(null, chunk));\n",
              "      yield {\n",
              "        response: {\n",
              "          action: 'append',\n",
              "          file: file.name,\n",
              "          data: base64,\n",
              "        },\n",
              "      };\n",
              "\n",
              "      let percentDone = fileData.byteLength === 0 ?\n",
              "          100 :\n",
              "          Math.round((position / fileData.byteLength) * 100);\n",
              "      percent.textContent = `${percentDone}% done`;\n",
              "\n",
              "    } while (position < fileData.byteLength);\n",
              "  }\n",
              "\n",
              "  // All done.\n",
              "  yield {\n",
              "    response: {\n",
              "      action: 'complete',\n",
              "    }\n",
              "  };\n",
              "}\n",
              "\n",
              "scope.google = scope.google || {};\n",
              "scope.google.colab = scope.google.colab || {};\n",
              "scope.google.colab._files = {\n",
              "  _uploadFiles,\n",
              "  _uploadFilesContinue,\n",
              "};\n",
              "})(self);\n",
              "</script> "
            ]
          },
          "metadata": {}
        },
        {
          "output_type": "stream",
          "name": "stdout",
          "text": [
            "Saving example.txt to example.txt\n"
          ]
        }
      ]
    },
    {
      "cell_type": "code",
      "metadata": {
        "colab": {
          "base_uri": "https://localhost:8080/"
        },
        "id": "_Zsoc15VT9HO",
        "outputId": "f3944052-96f5-479e-b615-7368eeb43e13"
      },
      "source": [
        "print (text_file.collect())"
      ],
      "execution_count": 10,
      "outputs": [
        {
          "output_type": "stream",
          "name": "stdout",
          "text": [
            "['In a May 16 letter obtained by CNN, acting Archivist Debra Steidel Wall writes to Trump, “The 16 records in question all reflect communications involving close presidential advisers, some of them directed to you personally, concerning whether, why, and how you should declassify certain classified records.”', '', 'The 16 presidential records, which were subpoenaed earlier this year, may provide critical evidence establishing the former president’s awareness of the declassification process, a key part of the criminal investigation into Trump’s mishandling of classified documents.']\n"
          ]
        }
      ]
    },
    {
      "cell_type": "code",
      "metadata": {
        "id": "Dv02JCSbGedG",
        "colab": {
          "base_uri": "https://localhost:8080/"
        },
        "outputId": "fcb47699-14fd-42bf-ec8a-c6001493fe10"
      },
      "source": [
        "counts = text_file.flatMap(lambda line: line.split(\" \")) \\\n",
        "             .map(lambda word: (word, 1)) \\\n",
        "             .filter(lambda x: x[0].strip() != \"\") \\\n",
        "             .reduceByKey(lambda a, b: a + b)\n",
        "\n",
        "# print(counts.collect())\n",
        "\n",
        "for x in counts.collect():\n",
        "  print (x)"
      ],
      "execution_count": 14,
      "outputs": [
        {
          "output_type": "stream",
          "name": "stdout",
          "text": [
            "('May', 1)\n",
            "('16', 3)\n",
            "('letter', 1)\n",
            "('obtained', 1)\n",
            "('CNN,', 1)\n",
            "('acting', 1)\n",
            "('Archivist', 1)\n",
            "('Debra', 1)\n",
            "('in', 1)\n",
            "('question', 1)\n",
            "('reflect', 1)\n",
            "('involving', 1)\n",
            "('close', 1)\n",
            "('presidential', 2)\n",
            "('of', 4)\n",
            "('them', 1)\n",
            "('certain', 1)\n",
            "('The', 1)\n",
            "('records,', 1)\n",
            "('this', 1)\n",
            "('may', 1)\n",
            "('provide', 1)\n",
            "('evidence', 1)\n",
            "('investigation', 1)\n",
            "('into', 1)\n",
            "('mishandling', 1)\n",
            "('In', 1)\n",
            "('a', 2)\n",
            "('by', 1)\n",
            "('Steidel', 1)\n",
            "('Wall', 1)\n",
            "('writes', 1)\n",
            "('to', 2)\n",
            "('Trump,', 1)\n",
            "('“The', 1)\n",
            "('records', 1)\n",
            "('all', 1)\n",
            "('communications', 1)\n",
            "('advisers,', 1)\n",
            "('some', 1)\n",
            "('directed', 1)\n",
            "('you', 2)\n",
            "('personally,', 1)\n",
            "('concerning', 1)\n",
            "('whether,', 1)\n",
            "('why,', 1)\n",
            "('and', 1)\n",
            "('how', 1)\n",
            "('should', 1)\n",
            "('declassify', 1)\n",
            "('classified', 2)\n",
            "('records.”', 1)\n",
            "('which', 1)\n",
            "('were', 1)\n",
            "('subpoenaed', 1)\n",
            "('earlier', 1)\n",
            "('year,', 1)\n",
            "('critical', 1)\n",
            "('establishing', 1)\n",
            "('the', 3)\n",
            "('former', 1)\n",
            "('president’s', 1)\n",
            "('awareness', 1)\n",
            "('declassification', 1)\n",
            "('process,', 1)\n",
            "('key', 1)\n",
            "('part', 1)\n",
            "('criminal', 1)\n",
            "('Trump’s', 1)\n",
            "('documents.', 1)\n"
          ]
        }
      ]
    },
    {
      "cell_type": "code",
      "metadata": {
        "id": "zebYKFfcEEln"
      },
      "source": [],
      "execution_count": null,
      "outputs": []
    },
    {
      "cell_type": "markdown",
      "metadata": {
        "id": "AG55CEl0DKkV"
      },
      "source": [
        "## Pi Estimation\n",
        "Spark can also be used for compute-intensive tasks. This code estimates π by \"throwing darts\" at a circle. We pick random points in the unit square ((0, 0) to (1,1)) and see how many fall in the unit circle. The fraction should be π / 4, so we use this to get our estimate."
      ]
    },
    {
      "cell_type": "code",
      "metadata": {
        "id": "iSU3OlbSDOtg",
        "colab": {
          "base_uri": "https://localhost:8080/"
        },
        "outputId": "7aba6725-eebb-4fc0-c14c-3524584287db"
      },
      "source": [
        "import random\n",
        "\n",
        "def inside(p):\n",
        "    x, y = random.random(), random.random()\n",
        "    return x*x + y*y < 1\n",
        "\n",
        "NUM_SAMPLES = 10000000\n",
        "count = sc.parallelize(range(0, NUM_SAMPLES)) \\\n",
        "             .filter(inside).count()\n",
        "print(\"Pi is roughly %f\" % (4.0 * count / NUM_SAMPLES))"
      ],
      "execution_count": 13,
      "outputs": [
        {
          "output_type": "stream",
          "name": "stdout",
          "text": [
            "Pi is roughly 3.141282\n"
          ]
        }
      ]
    },
    {
      "cell_type": "markdown",
      "metadata": {
        "id": "CpgWiAV6IF5k"
      },
      "source": [
        "#DataFrame API Examples\n",
        "In Spark, a DataFrame is a distributed collection of data organized into named columns. Users can use DataFrame API to perform various relational operations on both external data sources and Spark’s built-in distributed collections without providing specific procedures for processing data. Also, programs based on DataFrame API will be automatically optimized by Spark’s built-in optimizer, Catalyst."
      ]
    },
    {
      "cell_type": "markdown",
      "metadata": {
        "id": "TA50JLUHIYNv"
      },
      "source": [
        "##Text Search\n",
        "In this example, we search through the error messages in a log file."
      ]
    },
    {
      "cell_type": "code",
      "metadata": {
        "id": "Hbez2SbvNINM"
      },
      "source": [
        "from pyspark.sql import SparkSession"
      ],
      "execution_count": 15,
      "outputs": []
    },
    {
      "cell_type": "code",
      "metadata": {
        "colab": {
          "base_uri": "https://localhost:8080/"
        },
        "id": "HZJYpYBgIdvT",
        "outputId": "32b9e626-77fc-4d93-bb35-e7c30947c46e"
      },
      "source": [
        "print (hasattr(text_file, \"toDF\"))\n",
        "# False\n",
        "\n",
        "SparkSession(sc)\n",
        "print (hasattr(text_file, \"toDF\"))\n",
        "## True"
      ],
      "execution_count": 16,
      "outputs": [
        {
          "output_type": "stream",
          "name": "stdout",
          "text": [
            "True\n",
            "True\n"
          ]
        }
      ]
    },
    {
      "cell_type": "code",
      "metadata": {
        "colab": {
          "base_uri": "https://localhost:8080/"
        },
        "id": "spv8xbetNt_p",
        "outputId": "bffd263c-db7e-41c0-9385-4977590ac68e"
      },
      "source": [
        "df = sc.parallelize([(\"Tom\", \"M\", 20), (\"Jack\", \"M\", 18), (\"Marry\", \"F\", 20)])\\\n",
        "       .toDF(['name', 'sex', 'age'])\n",
        "\n",
        "df.show()"
      ],
      "execution_count": 17,
      "outputs": [
        {
          "output_type": "stream",
          "name": "stdout",
          "text": [
            "+-----+---+---+\n",
            "| name|sex|age|\n",
            "+-----+---+---+\n",
            "|  Tom|  M| 20|\n",
            "| Jack|  M| 18|\n",
            "|Marry|  F| 20|\n",
            "+-----+---+---+\n",
            "\n"
          ]
        }
      ]
    },
    {
      "cell_type": "code",
      "metadata": {
        "colab": {
          "base_uri": "https://localhost:8080/"
        },
        "id": "lhQ1owAuO2Wj",
        "outputId": "0d9abe20-cca2-4353-efc8-01328ccbdf67"
      },
      "source": [
        "# Counts by certain column\n",
        "countsByCol = df.groupBy(\"age\").count()\n",
        "countsByCol.show()"
      ],
      "execution_count": 18,
      "outputs": [
        {
          "output_type": "stream",
          "name": "stdout",
          "text": [
            "+---+-----+\n",
            "|age|count|\n",
            "+---+-----+\n",
            "| 20|    2|\n",
            "| 18|    1|\n",
            "+---+-----+\n",
            "\n"
          ]
        }
      ]
    },
    {
      "cell_type": "code",
      "metadata": {
        "colab": {
          "base_uri": "https://localhost:8080/"
        },
        "id": "8ogbu-5QPHhr",
        "outputId": "19a3f356-3466-4bb3-d242-9e40689dded8"
      },
      "source": [
        "from pyspark.sql.functions import col\n",
        "\n",
        "errors = df.filter(col(\"age\") > 19)\n",
        "errors.show()"
      ],
      "execution_count": 19,
      "outputs": [
        {
          "output_type": "stream",
          "name": "stdout",
          "text": [
            "+-----+---+---+\n",
            "| name|sex|age|\n",
            "+-----+---+---+\n",
            "|  Tom|  M| 20|\n",
            "|Marry|  F| 20|\n",
            "+-----+---+---+\n",
            "\n"
          ]
        }
      ]
    },
    {
      "cell_type": "code",
      "metadata": {
        "colab": {
          "base_uri": "https://localhost:8080/"
        },
        "id": "yMWHjuRQPklM",
        "outputId": "d56773bb-4a1d-4f5c-b6ee-eb9c8fc9ea2e"
      },
      "source": [
        "# Creates a DataFrame having a single column named \"line\"\n",
        "df = text_file.map(lambda k: k.split(\"\\\\t\")).toDF([\"line\"])\n",
        "\n",
        "errors = df.filter(col(\"line\").like(\"%you%\"))\n",
        "# Counts all the errors\n",
        "print (errors.count())"
      ],
      "execution_count": 21,
      "outputs": [
        {
          "output_type": "stream",
          "name": "stdout",
          "text": [
            "1\n"
          ]
        }
      ]
    }
  ]
}