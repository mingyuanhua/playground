{
 "cells": [
  {
   "cell_type": "code",
   "execution_count": 1,
   "id": "7eca4cf4-d0d6-4225-9cf4-7ba82576288a",
   "metadata": {},
   "outputs": [],
   "source": [
    "import pandas as pd\n",
    "import numpy as np"
   ]
  },
  {
   "cell_type": "code",
   "execution_count": 29,
   "id": "d6ed6bbb-e07d-43b3-9aab-e662d46dd921",
   "metadata": {},
   "outputs": [],
   "source": [
    "files = ['csv_files/framp.csv', 'csv_files/plent.csv']\n",
    "\n",
    "res = []\n",
    "\n",
    "for file in files:\n",
    "    # read each file\n",
    "    df = pd.read_csv(file)\n",
    "    \n",
    "    # format date column\n",
    "    df['date'] = pd.to_datetime(df['date'])\n",
    "    df['year'] = df['date'].dt.year\n",
    "    \n",
    "    # find max vol for each year\n",
    "    max_vol_idx = df.groupby('year')['vol'].idxmax()\n",
    "    max_vol_per_year = df.loc[max_vol_idx, ['date', 'vol']].reset_index(drop=True)\n",
    "    \n",
    "    # find max close price for each year\n",
    "    max_close_per_year = df[df['close'] == df.groupby('year')['close'].transform('max')]\n",
    "    max_close_per_year = max_close_per_year.loc[:, ['date', 'close']].reset_index(drop=True)\n",
    "    \n",
    "    # append result\n",
    "    res.append([max_vol_per_year, max_close_per_year])    "
   ]
  },
  {
   "cell_type": "code",
   "execution_count": 30,
   "id": "4ef8f758-a905-4dba-972f-da38fd8abefd",
   "metadata": {},
   "outputs": [
    {
     "data": {
      "text/plain": [
       "[[         date        vol\n",
       "  0  2005-09-23  306208914\n",
       "  1  2006-05-31   28831088\n",
       "  2  2007-02-01   18388511\n",
       "  3  2008-05-14   24150048\n",
       "  4  2009-02-06   35246018\n",
       "  5  2010-05-26   54335576\n",
       "  6  2011-08-31   35866126\n",
       "  7  2012-11-06   59381774\n",
       "  8  2013-10-10   38320297\n",
       "  9  2014-04-09   21251451\n",
       "  10 2015-11-30   17545094\n",
       "  11 2016-06-28   17390752\n",
       "  12 2017-02-16   17621885\n",
       "  13 2018-09-21   28281682\n",
       "  14 2019-01-09    9451453,\n",
       "           date   close\n",
       "  0  2005-09-29  2.8489\n",
       "  1  2006-05-11  2.8489\n",
       "  2  2007-10-23  4.5976\n",
       "  3  2008-01-08  4.1227\n",
       "  4  2009-07-30  3.6434\n",
       "  5  2010-11-12  3.2556\n",
       "  6  2011-07-07  3.8671\n",
       "  7  2011-07-08  3.8671\n",
       "  8  2012-12-28  4.4573\n",
       "  9  2013-08-07  5.7230\n",
       "  10 2014-09-23  4.7138\n",
       "  11 2015-10-08  6.4497\n",
       "  12 2016-08-11  5.4336\n",
       "  13 2017-08-28  6.8750\n",
       "  14 2017-08-30  6.8750\n",
       "  15 2018-12-07  7.0000\n",
       "  16 2019-01-23  7.5100],\n",
       " [         date     vol\n",
       "  0  2004-10-29  681289\n",
       "  1  2005-10-07  268690\n",
       "  2  2006-01-31  285801\n",
       "  3  2007-06-18  229924\n",
       "  4  2008-09-04  164968\n",
       "  5  2009-05-13  257104\n",
       "  6  2010-02-22  165316\n",
       "  7  2011-11-30  189252\n",
       "  8  2012-10-15   87597\n",
       "  9  2013-07-31   86191\n",
       "  10 2014-09-05  124624\n",
       "  11 2015-12-10   82283\n",
       "  12 2016-03-01  411227\n",
       "  13 2017-07-28   64303\n",
       "  14 2018-06-08   38814\n",
       "  15 2019-01-16   22818,\n",
       "           date    close\n",
       "  0  2004-11-05   38.149\n",
       "  1  2005-02-04   40.177\n",
       "  2  2006-12-18   43.350\n",
       "  3  2007-07-16  147.160\n",
       "  4  2008-03-07  123.250\n",
       "  5  2009-12-28   82.781\n",
       "  6  2010-01-06   82.094\n",
       "  7  2011-06-02   91.435\n",
       "  8  2011-06-09   91.435\n",
       "  9  2011-06-10   91.435\n",
       "  10 2012-04-17  106.080\n",
       "  11 2013-12-02  208.820\n",
       "  12 2014-12-30  222.250\n",
       "  13 2015-05-06  257.400\n",
       "  14 2016-08-09  299.700\n",
       "  15 2017-05-31  328.530\n",
       "  16 2018-01-09  312.380\n",
       "  17 2019-01-23  217.000]]"
      ]
     },
     "execution_count": 30,
     "metadata": {},
     "output_type": "execute_result"
    }
   ],
   "source": [
    "res"
   ]
  },
  {
   "cell_type": "code",
   "execution_count": 11,
   "id": "0d1ba073-0746-451e-b222-5bc794624ed4",
   "metadata": {},
   "outputs": [],
   "source": []
  },
  {
   "cell_type": "code",
   "execution_count": 23,
   "id": "c1848db7-cffc-4308-8d10-aac82fd46eb2",
   "metadata": {},
   "outputs": [],
   "source": []
  },
  {
   "cell_type": "code",
   "execution_count": 27,
   "id": "8d6978cf-8d06-42ce-be99-44a8f3aa3895",
   "metadata": {},
   "outputs": [],
   "source": []
  },
  {
   "cell_type": "code",
   "execution_count": null,
   "id": "c2f84cc8-2263-4e24-aef3-11e51f5e83fb",
   "metadata": {},
   "outputs": [],
   "source": []
  },
  {
   "cell_type": "code",
   "execution_count": null,
   "id": "9d0fc0f0-bc77-49a0-bbfa-c0b2a403581f",
   "metadata": {},
   "outputs": [],
   "source": []
  }
 ],
 "metadata": {
  "kernelspec": {
   "display_name": "Python 3 (ipykernel)",
   "language": "python",
   "name": "python3"
  },
  "language_info": {
   "codemirror_mode": {
    "name": "ipython",
    "version": 3
   },
   "file_extension": ".py",
   "mimetype": "text/x-python",
   "name": "python",
   "nbconvert_exporter": "python",
   "pygments_lexer": "ipython3",
   "version": "3.10.9"
  }
 },
 "nbformat": 4,
 "nbformat_minor": 5
}
